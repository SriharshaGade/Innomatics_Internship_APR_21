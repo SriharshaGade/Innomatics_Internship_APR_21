{
 "cells": [
  {
   "cell_type": "markdown",
   "metadata": {},
   "source": [
    "# Binomial Distribution 1"
   ]
  },
  {
   "cell_type": "code",
   "execution_count": 1,
   "metadata": {},
   "outputs": [
    {
     "name": "stdout",
     "output_type": "stream",
     "text": [
      "0.696\n"
     ]
    }
   ],
   "source": [
    "from math import factorial\n",
    "\n",
    "def bi(r, n, p):\n",
    "    b = (factorial(n)/(factorial(r)*factorial(n-r)))*(p**r)*((1-p)**(n-r))\n",
    "    return(b)\n",
    "result = 0\n",
    "n = 6\n",
    "p = 1.09/2.09\n",
    "for i in range(3,7):\n",
    "    result += bi(i, n, p)   \n",
    "print(\"%.3f\" %result)"
   ]
  },
  {
   "cell_type": "markdown",
   "metadata": {},
   "source": [
    "# Binomial Distribution 2"
   ]
  },
  {
   "cell_type": "code",
   "execution_count": 2,
   "metadata": {},
   "outputs": [
    {
     "name": "stdout",
     "output_type": "stream",
     "text": [
      "0.891\n",
      "0.342\n"
     ]
    }
   ],
   "source": [
    "def bi(r, n, p):\n",
    "    s = (factorial(n)/(factorial(r)* factorial(n-r)))*(p**r)*((1-p)**(n-r))\n",
    "    return(s)\n",
    "\n",
    "b, p, n = 0, 0.12, 10\n",
    "for i in range(3):\n",
    "    b += bi(i, n, p)   \n",
    "print(\"%.3f\" % b)\n",
    "nb = 0\n",
    "for i in range(2,10):\n",
    "    nb += bi(i, n, p)  \n",
    "print(\"%.3f\" % nb)"
   ]
  },
  {
   "cell_type": "markdown",
   "metadata": {},
   "source": [
    "# Normal Distribution 1"
   ]
  },
  {
   "cell_type": "code",
   "execution_count": 3,
   "metadata": {},
   "outputs": [
    {
     "name": "stdout",
     "output_type": "stream",
     "text": [
      "0.401\n",
      "0.341\n"
     ]
    }
   ],
   "source": [
    "import math\n",
    "def normal_dist(x,mu,s):\n",
    "    numerator = math.e**-((x-mu)**2/(2*s**2))\n",
    "    denominator = (math.sqrt(2*math.pi))*s\n",
    "    return numerator/denominator\n",
    "def find_probability(minimum, maximum):\n",
    "    i, step, a = minimum, 0.001, 0\n",
    "    a = 0\n",
    "    while i < maximum:\n",
    "        a += (normal_dist(i,20,2)*step)\n",
    "        i += step\n",
    "    return round(a,3)\n",
    "print(find_probability(0,19.5))\n",
    "print(find_probability(20,22))"
   ]
  },
  {
   "cell_type": "markdown",
   "metadata": {},
   "source": [
    "# Normal Distribution 2"
   ]
  },
  {
   "cell_type": "code",
   "execution_count": 15,
   "metadata": {},
   "outputs": [
    {
     "name": "stdout",
     "output_type": "stream",
     "text": [
      "15.87\n",
      "84.13\n",
      "15.87\n"
     ]
    }
   ],
   "source": [
    "mu = 70\n",
    "s = 10\n",
    "import math\n",
    "def normal_dist(a,mu = 70,s = 10):\n",
    "    return (1/2)*(1 + math.erf((a-mu)/(s*math.sqrt(2))))\n",
    "\n",
    "a = (1- normal_dist(80))* 100\n",
    "b = (1 - normal_dist(60))* 100\n",
    "c = 100 - b\n",
    "print(\"%.2f\" %a)\n",
    "print(\"%.2f\" %b)\n",
    "print(\"%.2f\" %c)"
   ]
  },
  {
   "cell_type": "markdown",
   "metadata": {},
   "source": [
    "# The Central Theorm 1"
   ]
  },
  {
   "cell_type": "code",
   "execution_count": 5,
   "metadata": {},
   "outputs": [
    {
     "name": "stdout",
     "output_type": "stream",
     "text": [
      "0.0098\n"
     ]
    }
   ],
   "source": [
    "import math\n",
    "mu = 205*49\n",
    "s = 15*math.sqrt(49)\n",
    "\n",
    "def normal_dist(x,mu,s):\n",
    "    return 0.5*(1 + math.erf((x-mu)/(s*math.sqrt(2))))\n",
    "\n",
    "print(\"%.4f\" %normal_dist(9800, mu, s))"
   ]
  },
  {
   "cell_type": "markdown",
   "metadata": {},
   "source": [
    "# The Central Theorm 2"
   ]
  },
  {
   "cell_type": "code",
   "execution_count": 6,
   "metadata": {},
   "outputs": [
    {
     "name": "stdout",
     "output_type": "stream",
     "text": [
      "0.6915\n"
     ]
    }
   ],
   "source": [
    "import math\n",
    "\n",
    "def cdf(std_dev, avg, x):\n",
    "    inner = 1 + math.erf((x - avg) / (std_dev * math.sqrt(2)))\n",
    "    return inner * 0.5\n",
    "\n",
    "ans = cdf(math.sqrt(100) * 2.0, 100 * 2.4, 250)\n",
    "\n",
    "print (round(ans, 4))"
   ]
  },
  {
   "cell_type": "markdown",
   "metadata": {},
   "source": [
    "# The Central Theorm 3"
   ]
  },
  {
   "cell_type": "code",
   "execution_count": 16,
   "metadata": {},
   "outputs": [
    {
     "name": "stdout",
     "output_type": "stream",
     "text": [
      "0.95\n",
      "1.96\n",
      "484.32\n",
      "515.68\n"
     ]
    }
   ],
   "source": [
    "from math import sqrt\n",
    "\n",
    "interval = float(input())\n",
    "x = float(input())\n",
    "print(round(500 - (80 / sqrt(100)) * x, 2))\n",
    "print(round(500 + (80 / sqrt(100)) * x, 2))"
   ]
  },
  {
   "cell_type": "markdown",
   "metadata": {},
   "source": [
    "# Pearson Correlation Coefficient\n"
   ]
  },
  {
   "cell_type": "code",
   "execution_count": 8,
   "metadata": {},
   "outputs": [
    {
     "name": "stdout",
     "output_type": "stream",
     "text": [
      "10\n",
      "10 9.8 8 7.8 7.7 7 6 5 4 2\n",
      "200 44 32 24 22 17 15 12 8 4\n"
     ]
    }
   ],
   "source": [
    "\n",
    "import statistics\n",
    "\n",
    "n = int(input())\n",
    "x = list(map(float,input().strip().split()))\n",
    "y = list(map(float,input().strip().split()))\n",
    "Ux = sum(x)/len(y)\n",
    "\n",
    "def pearson(X, Y):\n",
    "    mean_x, mean_y = statistics.mean(x), statistics.mean(y)\n",
    "    stddev_x, stddev_y = statistics.pstdev(x), statistics.pstdev(y)\n",
    "    num = 0\n",
    "    for i in range(0, len(X)):\n",
    "        num += (x[i] - mean_x) * (y[i] - mean_y)\n",
    "        \n",
    "    denom = len(x) * stddev_x * stddev_y"
   ]
  },
  {
   "cell_type": "markdown",
   "metadata": {},
   "source": [
    "# Least Square Regression Line"
   ]
  },
  {
   "cell_type": "code",
   "execution_count": 10,
   "metadata": {},
   "outputs": [
    {
     "name": "stdout",
     "output_type": "stream",
     "text": [
      "78.288\n"
     ]
    }
   ],
   "source": [
    "X = [95,85,80,70,60]\n",
    "Y = [85,95,70,65,70]\n",
    "a = 0\n",
    "for i in range(len(X)):\n",
    "    a+= X[i]*Y[i]\n",
    "numerator = a*len(X)- sum(X)*sum(Y)\n",
    "b = 0 \n",
    "for i in range(len(X)):\n",
    "    b+= X[i]**2\n",
    "denominator = b*len(X) - sum(X)**2\n",
    "\n",
    "m = numerator/denominator\n",
    "c = (sum(Y)/len(Y)) - m*(sum(X)/len(X))\n",
    "res = m*80 + c\n",
    "print(round(res,3))"
   ]
  },
  {
   "cell_type": "markdown",
   "metadata": {},
   "source": [
    "# Multiple Linear Regression\n"
   ]
  },
  {
   "cell_type": "code",
   "execution_count": 11,
   "metadata": {},
   "outputs": [
    {
     "name": "stdout",
     "output_type": "stream",
     "text": [
      "2 7\n",
      "0.18 0.89 109.85\n",
      "1.0 0.26 155.72\n",
      "0.92 0.11 137.66\n",
      "0.07 0.37 76.17\n",
      "0.85 0.16 139.75\n",
      "0.99 0.41 162.6\n",
      "0.87 0.47 151.77\n",
      "4\n",
      "0.49 0.18 \n",
      "105.21455835106944\n",
      "0.57 0.83 \n",
      "142.67095130729922\n",
      "0.56 0.64 \n",
      "132.93605469124694\n",
      "0.76 0.18\n",
      "129.70175404502453\n"
     ]
    }
   ],
   "source": [
    "import numpy as np\n",
    "from sklearn.linear_model import LinearRegression\n",
    "\n",
    "\n",
    "M, N = map(int, input().split())\n",
    "ab = [list(map(float, input().split())) for i in range(N)]\n",
    "b = np.array([i.pop() for i in ab])\n",
    "a = np.array(ab)\n",
    "\n",
    "lm = LinearRegression()\n",
    "lm.fit(a, b)\n",
    "\n",
    "\n",
    "q = int(input())\n",
    "for b in range(q):\n",
    "    print(float(lm.predict([np.array(input().split(), float)])))\n",
    "    "
   ]
  }
 ],
 "metadata": {
  "kernelspec": {
   "display_name": "Python 3",
   "language": "python",
   "name": "python3"
  },
  "language_info": {
   "codemirror_mode": {
    "name": "ipython",
    "version": 3
   },
   "file_extension": ".py",
   "mimetype": "text/x-python",
   "name": "python",
   "nbconvert_exporter": "python",
   "pygments_lexer": "ipython3",
   "version": "3.8.3"
  }
 },
 "nbformat": 4,
 "nbformat_minor": 4
}
