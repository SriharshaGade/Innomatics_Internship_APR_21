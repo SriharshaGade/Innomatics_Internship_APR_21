{
 "cells": [
  {
   "cell_type": "markdown",
   "metadata": {},
   "source": [
    "# List Comprehensions "
   ]
  },
  {
   "cell_type": "markdown",
   "metadata": {},
   "source": [
    "# Find the Runner-Up Score"
   ]
  },
  {
   "cell_type": "code",
   "execution_count": null,
   "metadata": {},
   "outputs": [],
   "source": [
    "if __name__ == '__main__':\n",
    "    n = int(input())\n",
    "    arr = map(int, input().split())\n",
    "    arr = (set(list(arr)))\n",
    "    ar= len(arr)\n",
    "    arr =sorted(arr)\n",
    "    print(arr[ar-2])"
   ]
  },
  {
   "cell_type": "markdown",
   "metadata": {},
   "source": [
    "# Nested Lists"
   ]
  },
  {
   "cell_type": "markdown",
   "metadata": {},
   "source": [
    "# Finding the Percentage"
   ]
  },
  {
   "cell_type": "markdown",
   "metadata": {},
   "source": [
    "# Lists"
   ]
  },
  {
   "cell_type": "code",
   "execution_count": null,
   "metadata": {},
   "outputs": [],
   "source": [
    "L = []\n",
    "\n",
    "N = int(input())\n",
    "\n",
    "for i in range(0, N):\n",
    "    tokens = input().split()\n",
    "\n",
    "    if tokens[0] == 'insert':\n",
    "        L.insert(int(tokens[1]), int(tokens[2]))\n",
    "    elif tokens[0] == 'print':\n",
    "        print (L)\n",
    "    elif tokens[0] == 'remove':\n",
    "        L.remove(int(tokens[1]))\n",
    "    elif tokens[0] == 'append':\n",
    "        L.append(int(tokens[1]))\n",
    "    elif tokens[0] == 'sort':\n",
    "        L.sort()\n",
    "    elif tokens[0] == 'pop':\n",
    "        L.pop()\n",
    "    elif tokens[0] == 'reverse':\n",
    "        L.reverse()"
   ]
  },
  {
   "cell_type": "markdown",
   "metadata": {},
   "source": [
    "# Tuples"
   ]
  },
  {
   "cell_type": "markdown",
   "metadata": {},
   "source": [
    "# Introduction to Sets"
   ]
  },
  {
   "cell_type": "code",
   "execution_count": null,
   "metadata": {},
   "outputs": [],
   "source": [
    "def average(array):\n",
    "    return sum(set(array))/len(set(array))\n",
    "\n",
    "if __name__ == '__main__':\n",
    "    n = int(input())\n",
    "    arr = list(map(int, input().split()))\n",
    "    result = average(arr)\n",
    "    print(result)"
   ]
  },
  {
   "cell_type": "markdown",
   "metadata": {},
   "source": [
    "# No Idea !"
   ]
  },
  {
   "cell_type": "markdown",
   "metadata": {},
   "source": [
    "# Symmetric Difference"
   ]
  },
  {
   "cell_type": "code",
   "execution_count": null,
   "metadata": {},
   "outputs": [],
   "source": [
    "n1 = int(input())\n",
    "set_1 = set(map(int,input().split()))\n",
    "n2 = int(input())\n",
    "set_2 = set(map(int,input().split()))\n",
    "set_diff =((set_1^set_2))\n",
    "def convert(set):\n",
    "    return list(set)\n",
    "for x in set_diff:\n",
    "    print(x)"
   ]
  },
  {
   "cell_type": "markdown",
   "metadata": {},
   "source": [
    "# set.add()"
   ]
  },
  {
   "cell_type": "code",
   "execution_count": null,
   "metadata": {},
   "outputs": [],
   "source": [
    "n = int(input())\n",
    "s=set()\n",
    "for i in range(n):\n",
    "    s.add(raw_input())\n",
    "print len(s)"
   ]
  },
  {
   "cell_type": "markdown",
   "metadata": {},
   "source": [
    "# set.discard(), remove()& .pop()"
   ]
  },
  {
   "cell_type": "code",
   "execution_count": null,
   "metadata": {},
   "outputs": [],
   "source": [
    "n = int(input())\n",
    "s = set(map(int, input().split()))\n",
    "for i in range(int(input())):\n",
    "    eval('s.{0}({1})'.format(*input().split()+['']))\n",
    "\n",
    "print(sum(s))"
   ]
  },
  {
   "cell_type": "markdown",
   "metadata": {},
   "source": [
    "# set.union() Operation"
   ]
  },
  {
   "cell_type": "code",
   "execution_count": null,
   "metadata": {},
   "outputs": [],
   "source": [
    "n= int(input())\n",
    "set_1=set(map(int, input().split()))\n",
    "m= int(input())\n",
    "set_2=set(map(int, input().split()))\n",
    "print(len(s.union(set_2)))\n"
   ]
  },
  {
   "cell_type": "markdown",
   "metadata": {},
   "source": [
    "# set.Insertion() Operation"
   ]
  },
  {
   "cell_type": "code",
   "execution_count": null,
   "metadata": {},
   "outputs": [],
   "source": [
    "n1 = int(input())\n",
    "set_1 = set(map(int,input().split()))\n",
    "n2 = int(input())\n",
    "set_2 = set(map(int,input().split()))\n",
    "print(len(set_1&set_2))"
   ]
  },
  {
   "cell_type": "markdown",
   "metadata": {},
   "source": [
    "# set.difference() Operation"
   ]
  },
  {
   "cell_type": "code",
   "execution_count": null,
   "metadata": {},
   "outputs": [],
   "source": [
    "n1 = int(input())\n",
    "set_1 = set(map(int,input().split()))\n",
    "n2 = int(input())\n",
    "set_2 = set(map(int,input().split()))\n",
    "print(len(set_1-set_2))"
   ]
  },
  {
   "cell_type": "markdown",
   "metadata": {},
   "source": [
    "# set.symmetric_difference() Operation"
   ]
  },
  {
   "cell_type": "code",
   "execution_count": null,
   "metadata": {},
   "outputs": [],
   "source": [
    "n1 = int(input())\n",
    "set_1 = set(map(int,input().split()))\n",
    "n2 = int(input())\n",
    "set_2 = set(map(int,input().split()))\n",
    "print(len(set_1^set_2))"
   ]
  },
  {
   "cell_type": "markdown",
   "metadata": {},
   "source": [
    "# Set Mutations"
   ]
  },
  {
   "cell_type": "markdown",
   "metadata": {},
   "source": [
    "# The Captain's Room"
   ]
  },
  {
   "cell_type": "code",
   "execution_count": null,
   "metadata": {},
   "outputs": [],
   "source": [
    "n = int(input())\n",
    "room = input().split()\n",
    "room.sort()\n",
    "capt_room = (set(room[0::2]) ^ set(room[1::2]))\n",
    "print(capt_room.pop())"
   ]
  },
  {
   "cell_type": "markdown",
   "metadata": {},
   "source": [
    "# Check Subset"
   ]
  },
  {
   "cell_type": "code",
   "execution_count": null,
   "metadata": {},
   "outputs": [],
   "source": [
    "n = int(input())\n",
    "\n",
    "for i in range(n):\n",
    "    a = int(input())\n",
    "    set_1 = set(input().split())\n",
    "    b = int(input())\n",
    "    set_2 = set(input().split())\n",
    "    set_diff = set_1.difference(set_2)\n",
    "    if len(set_diff) == 0:\n",
    "        print(True)\n",
    "    else:\n",
    "        print(False)"
   ]
  },
  {
   "cell_type": "markdown",
   "metadata": {},
   "source": [
    "# check Strict Superset"
   ]
  },
  {
   "cell_type": "code",
   "execution_count": null,
   "metadata": {},
   "outputs": [],
   "source": []
  }
 ],
 "metadata": {
  "kernelspec": {
   "display_name": "Python 3",
   "language": "python",
   "name": "python3"
  },
  "language_info": {
   "codemirror_mode": {
    "name": "ipython",
    "version": 3
   },
   "file_extension": ".py",
   "mimetype": "text/x-python",
   "name": "python",
   "nbconvert_exporter": "python",
   "pygments_lexer": "ipython3",
   "version": "3.8.3"
  }
 },
 "nbformat": 4,
 "nbformat_minor": 4
}
